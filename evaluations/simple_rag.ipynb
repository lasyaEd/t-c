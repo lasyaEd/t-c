{
 "cells": [
  {
   "cell_type": "code",
   "execution_count": 1,
   "metadata": {},
   "outputs": [
    {
     "name": "stdout",
     "output_type": "stream",
     "text": [
      "API key loaded successfully. First 5 characters: sk-pr\n",
      "Current working directory: /Users/lasyaedunuri/Documents/ApplOfLLMs/t-c\n",
      "Parent directory (where .env should be): /Users/lasyaedunuri/Documents/ApplOfLLMs\n",
      ".env file path: /Users/lasyaedunuri/Documents/ApplOfLLMs/.env\n",
      ".env file exists: False\n"
     ]
    }
   ],
   "source": [
    "import os\n",
    "from dotenv import load_dotenv\n",
    "\n",
    "# Get the current file's directory (all_rag_techniques)\n",
    "current_dir = os.path.dirname(os.path.abspath('__file__'))\n",
    "\n",
    "# Get the parent directory (RAG_Techniques)\n",
    "parent_dir = os.path.dirname(current_dir)\n",
    "\n",
    "# Construct the path to the .env file in the parent directory\n",
    "dotenv_path = os.path.join(parent_dir, '.env')\n",
    "\n",
    "# Load the .env file\n",
    "load_dotenv(dotenv_path)\n",
    "\n",
    "# Now you can use os.getenv to get your environment variables\n",
    "api_key = os.getenv('OPENAI_API_KEY')\n",
    "\n",
    "if api_key:\n",
    "    print(f\"API key loaded successfully. First 5 characters: {api_key[:5]}\")\n",
    "else:\n",
    "    print(\"Failed to load API key from environment.\")\n",
    "\n",
    "print(f\"Current working directory: {os.getcwd()}\")\n",
    "print(f\"Parent directory (where .env should be): {parent_dir}\")\n",
    "print(f\".env file path: {dotenv_path}\")\n",
    "print(f\".env file exists: {os.path.exists(dotenv_path)}\")\n",
    "\n",
    "# If the .env file exists, print its contents (excluding the actual API key)\n",
    "if os.path.exists(dotenv_path):\n",
    "    with open(dotenv_path, 'r') as file:\n",
    "        contents = file.read()\n",
    "        print(\"\\nContents of .env file (API key redacted):\")\n",
    "        for line in contents.split('\\n'):\n",
    "            if line.startswith('OPENAI_API_KEY='):\n",
    "                print('OPENAI_API_KEY=[REDACTED]')\n",
    "            else:\n",
    "                print(line)"
   ]
  },
  {
   "cell_type": "code",
   "execution_count": 2,
   "metadata": {},
   "outputs": [
    {
     "name": "stderr",
     "output_type": "stream",
     "text": [
      "/var/folders/32/cnjh1pk53pv44d1ht_32rzcc0000gn/T/ipykernel_6394/1778645082.py:6: LangChainDeprecationWarning: As of langchain-core 0.3.0, LangChain uses pydantic v2 internally. The langchain_core.pydantic_v1 module was a compatibility shim for pydantic v1, and should no longer be used. Please update the code to import from Pydantic directly.\n",
      "\n",
      "For example, replace imports like: `from langchain_core.pydantic_v1 import BaseModel`\n",
      "with: `from pydantic import BaseModel`\n",
      "or the v1 compatibility namespace if you are working in a code base that has not been fully upgraded to pydantic 2 yet. \tfrom pydantic.v1 import BaseModel\n",
      "\n",
      "  from helper_functions import *\n"
     ]
    },
    {
     "name": "stdout",
     "output_type": "stream",
     "text": [
      "API key loaded successfully\n",
      "API key: sk-pr...o16sA\n"
     ]
    }
   ],
   "source": [
    "import os\n",
    "import sys\n",
    "from dotenv import load_dotenv\n",
    "\n",
    "sys.path.append(os.path.abspath(os.path.join(os.getcwd(), '..'))) # Add the parent directory to the path since we work with notebooks\n",
    "from helper_functions import *\n",
    "from evaluate_rag import *\n",
    "\n",
    "# Check if the API key is loaded correctly\n",
    "api_key = os.getenv('OPENAI_API_KEY')\n",
    "if api_key:\n",
    "    print(\"API key loaded successfully\")\n",
    "    print(f\"API key: {api_key[:5]}...{api_key[-5:]}\")  # Print first and last 5 characters\n",
    "else:\n",
    "    print(\"Failed to load API key\")\n",
    "\n",
    "# Load environment variables from a .env file\n",
    "load_dotenv()\n",
    "\n",
    "# Set the OpenAI API key environment variable\n",
    "os.environ[\"OPENAI_API_KEY\"] = os.getenv('OPENAI_API_KEY')"
   ]
  },
  {
   "cell_type": "code",
   "execution_count": 4,
   "metadata": {},
   "outputs": [],
   "source": [
    "\n",
    "path = \"data/\""
   ]
  },
  {
   "cell_type": "code",
   "execution_count": null,
   "metadata": {},
   "outputs": [],
   "source": [
    "import os\n",
    "from langchain.vectorstores import FAISS\n",
    "from langchain.embeddings.openai import OpenAIEmbeddings\n",
    "from langchain.text_splitter import RecursiveCharacterTextSplitter\n",
    "\n",
    "def encode_documents(path, chunk_size=1000, chunk_overlap=200):\n",
    "    \"\"\"\n",
    "    Encodes all text files into a vector store using OpenAI embeddings.\n",
    "\n",
    "    Args:\n",
    "        path: The path to the directory of text files.\n",
    "        chunk_size: The desired size of each text chunk.\n",
    "        chunk_overlap: The amount of overlap between consecutive chunks.\n",
    "\n",
    "    Returns:\n",
    "        A FAISS vector store containing the encoded content of the files.\n",
    "    \"\"\"\n",
    "    # Initialize text splitter and embeddings\n",
    "    text_splitter = RecursiveCharacterTextSplitter(\n",
    "        chunk_size=chunk_size, chunk_overlap=chunk_overlap, length_function=len\n",
    "    )\n",
    "    embeddings = OpenAIEmbeddings()\n",
    "\n",
    "    # Initialize an empty list to store all text chunks\n",
    "    all_texts = []\n",
    "    \n",
    "    # Iterate through all files in the directory\n",
    "    for filename in os.listdir(path):\n",
    "        if filename.endswith('.txt'):\n",
    "            file_path = os.path.join(path, filename)\n",
    "            \n",
    "            # Load text document\n",
    "            with open(file_path, 'r', encoding='utf-8') as file:\n",
    "                text = file.read()\n",
    "            \n",
    "            # Split text into chunks and add to all_texts\n",
    "            texts = text_splitter.split_text(text)\n",
    "            all_texts.extend(texts)\n",
    "    \n",
    "    # Create vector store from all texts\n",
    "    vectorstore = FAISS.from_texts(all_texts, embeddings)\n",
    "    \n",
    "    return vectorstore\n",
    "\n",
    "## Includes Metadata\n",
    "# def encode_documents(folders, chunk_size=1000, chunk_overlap=200):\n",
    "#     text_splitter = RecursiveCharacterTextSplitter(\n",
    "#         chunk_size=chunk_size, chunk_overlap=chunk_overlap, length_function=len\n",
    "#     )\n",
    "#     embeddings = OpenAIEmbeddings()\n",
    "#     all_texts = []\n",
    "#     metadata = []\n",
    "\n",
    "#     for folder in folders:\n",
    "#         for filename in os.listdir(folder):\n",
    "#             if filename.endswith(\".txt\"):\n",
    "#                 file_path = os.path.join(folder, filename)\n",
    "#                 with open(file_path, \"r\", encoding=\"utf-8\") as file:\n",
    "#                     text = file.read()\n",
    "#                 texts = text_splitter.split_text(text)\n",
    "#                 all_texts.extend(texts)\n",
    "#                 metadata.extend([{\"file_name\": filename, \"folder\": folder}] * len(texts))\n",
    "    \n",
    "#     vectorstore = FAISS.from_texts(all_texts, embeddings, metadatas=metadata)\n",
    "#     return vectorstore"
   ]
  },
  {
   "cell_type": "code",
   "execution_count": 6,
   "metadata": {},
   "outputs": [
    {
     "name": "stderr",
     "output_type": "stream",
     "text": [
      "/var/folders/32/cnjh1pk53pv44d1ht_32rzcc0000gn/T/ipykernel_6247/2513701172.py:22: LangChainDeprecationWarning: The class `OpenAIEmbeddings` was deprecated in LangChain 0.0.9 and will be removed in 1.0. An updated version of the class exists in the :class:`~langchain-openai package and should be used instead. To use it run `pip install -U :class:`~langchain-openai` and import as `from :class:`~langchain_openai import OpenAIEmbeddings``.\n",
      "  embeddings = OpenAIEmbeddings()\n"
     ]
    },
    {
     "name": "stdout",
     "output_type": "stream",
     "text": [
      "FAISS vector store created successfully!\n"
     ]
    }
   ],
   "source": [
    "chunks_vector_store = encode_documents(path, chunk_size=1000, chunk_overlap=200)\n",
    "print(\"FAISS vector store created successfully!\")"
   ]
  },
  {
   "cell_type": "code",
   "execution_count": 7,
   "metadata": {},
   "outputs": [],
   "source": [
    "chunks_query_retriever = chunks_vector_store.as_retriever(search_kwargs={\"k\": 2})"
   ]
  },
  {
   "cell_type": "code",
   "execution_count": 8,
   "metadata": {},
   "outputs": [
    {
     "name": "stderr",
     "output_type": "stream",
     "text": [
      "/Users/lasyaedunuri/Documents/ApplOfLLMs/t-c/helper_functions.py:145: LangChainDeprecationWarning: The method `BaseRetriever.get_relevant_documents` was deprecated in langchain-core 0.1.46 and will be removed in 1.0. Use :meth:`~invoke` instead.\n",
      "  docs = chunks_query_retriever.get_relevant_documents(question)\n"
     ]
    },
    {
     "name": "stdout",
     "output_type": "stream",
     "text": [
      "Context 1:\n",
      "If you do post content or submit material, and unless we indicate otherwise, you grant Amazon a nonexclusive, royalty-free, perpetual, irrevocable, and fully sublicensable right to use, reproduce, modify, adapt, publish, perform, translate, create derivative works from, distribute, and display such content throughout the world in any media. You grant Amazon and sublicensees the right to use the name that you submit in connection with such content, if they choose. You represent and warrant that you own or otherwise control all of the rights to the content that you post; that the content is accurate; that use of the content you supply does not violate this policy and will not cause injury to any person or entity; and that you will indemnify Amazon for all claims resulting from content you supply. Amazon has the right but not the obligation to monitor and edit or remove any activity or content. Amazon takes no responsibility and assumes no liability for any content posted by you or any\n",
      "\n",
      "\n",
      "Context 2:\n",
      "REVIEWS, COMMENTS, COMMUNICATIONS, AND OTHER CONTENT\n",
      "You may post reviews, comments, photos, videos, and other content; send e-cards and other communications; and submit suggestions, ideas, comments, questions, or other information, so long as the content is not illegal, obscene, threatening, defamatory, invasive of privacy, infringing of intellectual property rights (including publicity rights), or otherwise injurious to third parties or objectionable, and does not consist of or contain software viruses, political campaigning, commercial solicitation, chain letters, mass mailings, or any form of \"spam\" or unsolicited commercial electronic messages. You may not use a false e-mail address, impersonate any person or entity, or otherwise mislead as to the origin of a card or other content. Amazon reserves the right (but not the obligation) to remove or edit such content, but does not regularly review posted content.\n",
      "\n",
      "\n"
     ]
    }
   ],
   "source": [
    "test_query = \"What rights do users grant Amazon when posting reviews or comments?\"\n",
    "context = retrieve_context_per_question(test_query, chunks_query_retriever)\n",
    "show_context(context)"
   ]
  },
  {
   "cell_type": "code",
   "execution_count": 9,
   "metadata": {},
   "outputs": [
    {
     "name": "stdout",
     "output_type": "stream",
     "text": [
      "Answering the question from the retrieved context...\n",
      "Answering the question from the retrieved context...\n",
      "Answering the question from the retrieved context...\n",
      "Answering the question from the retrieved context...\n",
      "Answering the question from the retrieved context...\n",
      "Answering the question from the retrieved context...\n",
      "Answering the question from the retrieved context...\n",
      "Answering the question from the retrieved context...\n",
      "Answering the question from the retrieved context...\n",
      "Answering the question from the retrieved context...\n",
      "LLMTestCase(input=\"Does METTLER TOLEDO's waive any provision?\", actual_output='The context does not explicitly mention any waiver of provisions by Mettler-Toledo. It outlines the governing law and jurisdiction for disputes but does not indicate any waiver of rights or provisions. Here are the key points:\\n\\n- The contract is governed by the laws of the country where the Mettler-Toledo office on the order documents is located.\\n- If the office is in the USA, Delaware state laws apply.\\n- Legal claims must be filed in the court nearest to the Mettler-Toledo office on the order documents.\\n- Mettler-Toledo can choose to initiate legal proceedings in any competent court.\\n- The United Nations Convention on Contracts for the International Sale of Goods does not apply.', expected_output='No, METTLER TOLEDO does not waive any provision.', context=None, retrieval_context=['Mettler-Toledo Standard Terms and Conditions for Sales and Service', '24. GOVERNING LAW AND PLACE OF JURISDICTION – The performance of the parties to this contract, and the relationship between the parties, is subject to the applicable laws of the country where the Mettler Toledo office identified on the MT order documents is located; if the Mettler Toledo office identified on the MT order documents is located in the United States of America, the laws of the State of Delaware apply. The exclusive venue for claims arising under this contract is the court with competent jurisdiction nearest to the Mettler Toledo office identified on the MT order documents; if the Mettler Toledo office identified on the MT order documents is located in the United States of America, the courts of the State of Delaware are the exclusive venue. However, MT reserves the right to initiate court proceedings against Buyer at any other court of competent jurisdiction. The United Nations Convention on Contracts for the International Sale of Goods is explicitly excluded.'], additional_metadata=None, comments=None, tools_called=None, expected_tools=None, reasoning=None, name=None)\n",
      "LLMTestCase(input='What rights do users grant Amazon when posting reviews or comments?', actual_output='- Users grant Amazon a nonexclusive, royalty-free, perpetual, irrevocable, and fully sublicensable right to use their content.\\n- Amazon can use, reproduce, modify, adapt, publish, perform, translate, create derivative works from, distribute, and display the content worldwide in any media.\\n- Users allow Amazon and its sublicensees to use the name submitted with the content.\\n- Users must ensure they own or control all rights to the content and that it is accurate and non-infringing.\\n- Users agree to indemnify Amazon for any claims related to the content they provide.', expected_output='Nonexclusive, royalty-free, perpetual, irrevocable, and sublicensable rights.', context=None, retrieval_context=['If you do post content or submit material, and unless we indicate otherwise, you grant Amazon a nonexclusive, royalty-free, perpetual, irrevocable, and fully sublicensable right to use, reproduce, modify, adapt, publish, perform, translate, create derivative works from, distribute, and display such content throughout the world in any media. You grant Amazon and sublicensees the right to use the name that you submit in connection with such content, if they choose. You represent and warrant that you own or otherwise control all of the rights to the content that you post; that the content is accurate; that use of the content you supply does not violate this policy and will not cause injury to any person or entity; and that you will indemnify Amazon for all claims resulting from content you supply. Amazon has the right but not the obligation to monitor and edit or remove any activity or content. Amazon takes no responsibility and assumes no liability for any content posted by you or any', 'REVIEWS, COMMENTS, COMMUNICATIONS, AND OTHER CONTENT\\nYou may post reviews, comments, photos, videos, and other content; send e-cards and other communications; and submit suggestions, ideas, comments, questions, or other information, so long as the content is not illegal, obscene, threatening, defamatory, invasive of privacy, infringing of intellectual property rights (including publicity rights), or otherwise injurious to third parties or objectionable, and does not consist of or contain software viruses, political campaigning, commercial solicitation, chain letters, mass mailings, or any form of \"spam\" or unsolicited commercial electronic messages. You may not use a false e-mail address, impersonate any person or entity, or otherwise mislead as to the origin of a card or other content. Amazon reserves the right (but not the obligation) to remove or edit such content, but does not regularly review posted content.'], additional_metadata=None, comments=None, tools_called=None, expected_tools=None, reasoning=None, name=None)\n",
      "LLMTestCase(input='What happens if a product offered by Amazon is not as described?', actual_output='If a product offered by Amazon is not as described, your only option is to return it in unused condition.', expected_output='Return it in unused condition.', context=None, retrieval_context=['PRODUCT DESCRIPTIONS\\nAmazon attempts to be as accurate as possible. However, Amazon does not warrant that product descriptions or other content of any Amazon Service is accurate, complete, reliable, current, or error-free. If a product offered by Amazon itself is not as described, your sole remedy is to return it in unused condition.', \"TO THE FULL EXTENT PERMISSIBLE BY LAW, AMAZON DISCLAIMS ALL WARRANTIES, EXPRESS OR IMPLIED, INCLUDING, BUT NOT LIMITED TO, IMPLIED WARRANTIES OF MERCHANTABILITY AND FITNESS FOR A PARTICULAR PURPOSE. AMAZON DOES NOT WARRANT THAT THE AMAZON SERVICES, INFORMATION, CONTENT, MATERIALS, PRODUCTS (INCLUDING SOFTWARE) OR OTHER SERVICES INCLUDED ON OR OTHERWISE MADE AVAILABLE TO YOU THROUGH THE AMAZON SERVICES, AMAZON'S SERVERS OR ELECTRONIC COMMUNICATIONS SENT FROM AMAZON ARE FREE OF VIRUSES OR OTHER HARMFUL COMPONENTS. TO THE FULL EXTENT PERMISSIBLE BY LAW, AMAZON WILL NOT BE LIABLE FOR ANY DAMAGES OF ANY KIND ARISING FROM THE USE OF ANY AMAZON SERVICE, OR FROM ANY INFORMATION, CONTENT, MATERIALS, PRODUCTS (INCLUDING SOFTWARE) OR OTHER SERVICES INCLUDED ON OR OTHERWISE MADE AVAILABLE TO YOU THROUGH ANY AMAZON SERVICE, INCLUDING, BUT NOT LIMITED TO DIRECT, INDIRECT, INCIDENTAL, PUNITIVE, AND CONSEQUENTIAL DAMAGES, UNLESS OTHERWISE SPECIFIED IN WRITING.\"], additional_metadata=None, comments=None, tools_called=None, expected_tools=None, reasoning=None, name=None)\n",
      "LLMTestCase(input='What permissions might you grant when using Amazon-created apps?', actual_output=\"When using Amazon-created apps, you might grant the following permissions:\\n\\n- Access to your device's location services.\\n- Permission to access your contacts.\\n- Other permissions that your mobile device will inform you about.\\n- The ability to change these permissions in your device's settings menu.\", expected_output='Device-specific permissions like location or camera access.', context=None, retrieval_context=['We generally do not charge your credit card until after your order has entered the shipping process or, for digital products, until we make the digital product available to you.\\n\\nAPP PERMISSIONS\\nWhen you use apps created by Amazon, such as the Amazon App or Kindle App, you may grant certain permissions to us for your device. Most mobile devices provide you with information about these permissions. To learn more about these permissions, click here.\\n\\nSANCTIONS AND EXPORT POLICY\\nYou may not use any Amazon Service if you are the subject of U.S. sanctions or of sanctions consistent with U.S. law imposed by the governments of the country where you are using Amazon Services. You must comply with all U.S. or other export and re-export restrictions that may apply to goods, software (including Amazon Software), technology, and services.', 'You will also be able to opt out of certain other types of data usage by updating your settings on the applicable Amazon website (e.g., in \"Manage Your Content and Devices\"), device, or application. For more information click here. Most non-Amazon devices also provide users with the ability to change device permissions (e.g., disable/access location services, contacts). For most devices, these controls are located in the device\\'s settings menu. If you have questions about how to change your device permissions on devices manufactured by third parties, we recommend you contact your mobile service carrier or your device manufacturer.\\nIf you are a seller, you can add or update certain information in Seller Central, update your account information by accessing your Seller Account Information, and adjust your email or other communications you receive from us by updating your Notification Preferences.'], additional_metadata=None, comments=None, tools_called=None, expected_tools=None, reasoning=None, name=None)\n",
      "LLMTestCase(input='How does Apple’s advertising platform differ from others regarding user tracking?', actual_output=\"1. Apple treats data collected through cookies and similar technologies as non-personal, but if local laws consider IP addresses as personal data, Apple treats them as such in those regions.\\n2. Apple may combine non-personal data with personal data, and if combined, it is treated as personal data under their Privacy Policy.\\n3. Apple's advertising platform does not track users by linking data from its apps with data from third parties for targeted advertising.\\n4. Apple does not share user or device data with data brokers.\\n5. Users can disable Personalized Ads to opt out of interest-based ads, but may still see context-based ads.\", expected_output='It does not link user/device data with third-party data or share data with brokers.', context=None, retrieval_context=['Apple generally treats data we collect using these cookies and similar technologies as non-personal data. However, to the extent that Internet Protocol (IP) addresses or similar identifiers are considered personal data by local law, we also treat these identifiers as personal data in those regions. In addition, Apple sometimes combines non-personal data collected from these technologies with other personal data Apple holds. When we combine data in this way, we treat the combined data as personal data for purposes of this Privacy Policy.\\n\\nAds that are delivered by Apple’s advertising platform may appear on the App Store, Apple News, Stocks, and Apple TV app depending on your location. Apple’s advertising platform does not track you, meaning that it does not link user or device data collected from our apps with user or device data collected from third parties for targeted advertising or advertising measurement purposes, and does not share user or device data with data brokers.', \"If you do not want to receive ads targeted to your interests from Apple's advertising platform in those apps, you can choose to disable Personalized Ads, which will opt your Apple Account out of receiving such ads regardless of what device you are using. On your iOS, iPadOS, or visionOS device, you can disable Personalized Ads by going to Settings > Privacy & Security > Apple Advertising and tapping to turn off Personalized Ads. On your Mac, you can disable Personalized Ads by going to System Settings > Privacy & Security > Privacy > Advertising, then deselecting Personalized Ads. You may still see ads in the App Store, Apple News, or Stocks based on context like your search query or the channel you are reading. If you disable Allow Apps to Request to Track, third-party apps cannot request to use the Advertising Identifier, a non-personal identifier served by the operating system on your device, to track you across apps and websites owned by other companies.\"], additional_metadata=None, comments=None, tools_called=None, expected_tools=None, reasoning=None, name=None)\n",
      "LLMTestCase(input='Can Audi revoke access to the complimentary charging promotion without notice, and under what conditions?', actual_output='- Audi can revoke your access to the charging promotion without notice if they believe you violated any terms or agreements with them.\\n- If you incur excessive or fraudulent costs during a charging session, Audi may suspend your access.\\n- Engaging in illegal or harmful activities while using Audi services or charging stations can lead to termination of access.\\n- The promotion is only for charging the specific Audi vehicle associated with it, not for any other vehicles.\\n- Vehicles used for commercial purposes, like ridesharing or taxis, are not eligible for this promotion.', expected_output='Yes, Audi can revoke access if there is suspected excessive, fraudulent, or unauthorized use or violation of any terms.', context=None, retrieval_context=['Audi reserves the right to withhold, revoke, reduce, terminate, or suspend your access to all or any portion of this Promotion  without notice if Audi determines or suspects, in its sole discretion, that you: (a) are in violation of the myAudi Terms of Service, the myAudi mobile app Terms of Use, these Promotion Terms and Conditions, or any other contract between you and Audi; (b) have incurred costs (including without limitation any parking or idle fees) during a charging session that are excessive, fraudulent, or otherwise indicate an unauthorized or unintended use  this f Promotion; or (c) have engaged in any illegal, fraudulent, tortious, injurious, harmful, or abusive conduct in your use of the myAudi service, the myAudi mobile app, or an Electrify America charging station.', 'Subject to the restrictions below, there is no limit on the number of eligible charging sessions during the Promotion or the kWh amount of charging available in each session. However, please be aware that frequent and consecutive charging can permanently decrease battery capacity, which may not be covered your vehicle’s warranty. \\n\\n\\n\\nPLEASE NOTE THE FOLLOWING IMPORTANT LIMITATIONS ON YOUR USE OF THIS PLAN:\\nYou may only use this Plan for charging the Audi vehicle associated with this Promotion. No other vehicle is eligible to receive charging under this Promotion through your account, whether owned by you or others.\\n\\nThis Plan is not available for any vehicles in commercial use, such as ridesharing or taxi services.'], additional_metadata=None, comments=None, tools_called=None, expected_tools=None, reasoning=None, name=None)\n",
      "LLMTestCase(input='How does Audi handle situations where a technological change renders certain service-related equipment obsolete?', actual_output='The context does not provide specific details on how Audi handles situations where technological changes render service-related equipment obsolete. It mainly outlines the services and terms related to myAudi and Audi Connect services, but does not address obsolescence directly.', expected_output='Audi is not obligated to design or provide replacement equipment, leaving users to bear the cost.', context=None, retrieval_context=['in part be included as a part of a Paid Plan (as defined below).  Your Vehicle contains or requires the installation of additional hardware and software (“Equipment”) that enables you to receive or utilize certain Services.  Audi Connect services and Audi Financial Services, while accessible and manageable through myAudi, are governed by separate Terms of Service, available at Audi connect Terms and Audi Financial Services Terms and Policies.', 'These Terms of Service govern your use of the myAudi services (the capabilities of which may vary by model and model year), including account management (such as Audi financial payments, add-on plan details, and dealer information); vehicle details (such as videos and guides, service scheduling, warranty information, and personalized accessories) and exclusive benefits and content (such as lifestyle articles, luxury partner offers, exclusive events, and Audi owner community); the myAudi Marketplace (as further described below); management of your Audi Connect services, including Connect CARE, Connect PRIME, Connect NAV, and Connect PLUS; Audi Functions on Demand; and any other Audi designated services (together the “Service”) available with your Audi vehicle (your “Vehicle”), which may in part be included as a part of a Paid Plan (as defined below).  Your Vehicle contains or requires the installation of additional hardware and software (“Equipment”) that enables you to receive or'], additional_metadata=None, comments=None, tools_called=None, expected_tools=None, reasoning=None, name=None)\n",
      "LLMTestCase(input='Can I use Chick-fil-A rewards at all locations?', actual_output='Rewards cannot be redeemed through any third-party platforms. Rewards provided to Members have set terms and will expire in accordance with the terms stated for that Reward. Determinations regarding redemption of Points are subject to Chick-fil-A’s discretion. qualifying purchases and preferences. In certain events, Member Benefits may require that you have location settings enabled for them to be distributed to your App. Please note that Chick-fil-A and participating Chick-fil-A restaurants may be unable to send these Member Benefits to you if you have turned off your notifications or location settings in the App; if you have elected not to receive email or other communications from Chick-fil-A; or if you have poor network connectivity. Member Benefits may have certain restrictions including expiration dates and short, time-limited redemption periods. Member Benefits are personal to you and cannot be shared, copied or transferred, except as the Program may allow in certain limited instances. You may be required to present your Chick-fil-A One account information at the participating Chick-fil-A restaurant in order to redeem Member Benefits. Read each offer carefully for specific details, limitations and restrictions.', expected_output='No, rewards may not be accepted at licensed or non-traditional locations like airports or colleges.', context=None, retrieval_context=['the App or online at www.chick-fil-a.com/MyProfile/AddRewards or https://order.chick-fil-a.com while logged into your Chick-fil-A One Account. Rewards cannot be redeemed through any third-party platforms. Rewards provided to Members have set terms and will expire in accordance with the terms stated for that Reward. Determinations regarding redemption of Points are subject to Chick-fil-A’s discretion.', 'qualifying purchases and preferences. In certain events, Member Benefits may require that you have location settings enabled for them to be distributed to your App. Please note that Chick-fil-A and participating Chick-fil-A restaurants may be unable to send these Member Benefits to you if you have turned off your notifications or location settings in the App; if you have elected not to receive email or other communications from Chick-fil-A; or if you have poor network connectivity. Member Benefits may have certain restrictions including expiration dates and short, time-limited redemption periods. Member Benefits are personal to you and cannot be shared, copied or transferred, except as the Program may allow in certain limited instances. You may be required to present your Chick-fil-A One account information at the participating Chick-fil-A restaurant in order to redeem Member Benefits. Read each offer carefully for specific details, limitations and restrictions.'], additional_metadata=None, comments=None, tools_called=None, expected_tools=None, reasoning=None, name=None)\n",
      "LLMTestCase(input=\"What is Chick-fil-A's policy on arbitration?\", actual_output=\"- If a claim cannot be resolved within 60 days, either party can start arbitration or small claims court proceedings.\\n- To initiate arbitration, a letter must be sent to Chick-fil-A's Legal Department and the AAA, describing the claim.\\n- Claims that could be handled in small claims court can be elected to be heard there instead of arbitration, before an arbitrator is appointed.\\n- Any disputes about eligibility for small claims court are decided by the court, not an arbitrator.\\n- Arbitration proceedings will remain closed until the small claims court makes a decision if there's a dispute about court eligibility.\", expected_output='Disputes are resolved through binding arbitration or small claims court, with a waiver of class action rights.', context=None, retrieval_context=['If we are unable to resolve your claim within 60 days despite those good faith efforts, then either you or we may start arbitration or small claims court proceedings. To begin arbitration, you must send a letter requesting arbitration and describing your claim to the following address: Chick-fil-A, Inc., ATTN: Legal Department, 5200 Buffington Rd, Atlanta, GA 30349 and to the AAA. Notwithstanding the foregoing, if the claims asserted in any request or demand for arbitration could have been brought in small claims court, then either you or we may elect to have the claims heard in small claims court, rather than in arbitration, at any time before the arbitrator is appointed, by notifying the other party of that election in writing. Any dispute about whether a claim qualifies for small claims court will be resolved by that court, not by an arbitrator. In the event of any such dispute, the arbitration proceeding will remain closed unless and until the small claims court issues a decision', 'If we are unable to resolve your claim within 60 days despite those good faith efforts, then either you or we may start arbitration or small claims court proceedings. To begin arbitration, you must send a letter requesting arbitration and describing your claim to the following address: Chick-fil-A, Inc., ATTN: Legal Department, 5200 Buffington Rd, Atlanta, GA 30349 and to the AAA. Notwithstanding the foregoing, if the claims asserted in any request or demand for arbitration could have been brought in small claims court, then either you or we may elect to have the claims heard in small claims court, rather than in arbitration, at any time before the arbitrator is appointed, by notifying the other party of that election in writing. Any dispute about whether a claim qualifies for small claims court will be resolved by that court, not by an arbitrator. In the event of any such dispute, the arbitration proceeding will remain closed unless and until the small claims court issues a decision'], additional_metadata=None, comments=None, tools_called=None, expected_tools=None, reasoning=None, name=None)\n",
      "LLMTestCase(input='What is Costco policy on handling user-generated content that may violate copyright or trademark laws?', actual_output='- Costco reserves the right to take actions such as issuing warnings, suspending or terminating access, and removing or editing content if it believes the content may violate copyright or trademark laws.\\n- Costco does not take responsibility or assume liability for any content posted by users or third parties, including any potential copyright or trademark violations.\\n- Users are solely responsible for the content they upload and must ensure they have the rights to grant licenses to Costco.\\n- Users agree to indemnify Costco against any claims or damages arising from their content or conduct, including violations of copyright or trademark laws.', expected_output='Costco may remove infringing content and take legal action against users who violate copyright laws.', context=None, retrieval_context=[\"obligation, to take any action we deem appropriate, including but not limited to action to issue a warning, suspend or terminate your access and use of the Sites and related services at any time, and block, remove or edit any communication and materials that Costco believes in its sole discretion may violate applicable law, the Site Terms or a third party's rights. Costco takes no responsibility and assumes no liability for any Content posted or uploaded by you or any third party, or for any mistakes, defamation, slander, libel, omissions, falsehoods, obscenity, pornography or profanity you may encounter.\", \"6. Responsibility for Your Conduct\\nYou represent and warrant that you have and will retain all rights necessary to grant the licenses to Costco under these Terms. You remain solely liable for the Content or other information you upload or transmit to the discussion forums or interactive areas of the Sites, including the Photo Services. You agree to indemnify and hold harmless Costco and its parents, employees, agents and representatives from any third-party claim, action, demand, loss, or damages (including attorneys' fees) arising out of or relating to your conduct, your actual or attempted violation of these Site Terms or any applicable law, your Submissions (including Content and Photo Content), your violation of any rights of a third party, or the acts or omissions of a third party who has authority to access or use the Sites on your behalf or arising out of your violation of these Site Terms.\"], additional_metadata=None, comments=None, tools_called=None, expected_tools=None, reasoning=None, name=None)\n"
     ]
    },
    {
     "data": {
      "text/html": [
       "<pre style=\"white-space:pre;overflow-x:auto;line-height:normal;font-family:Menlo,'DejaVu Sans Mono',consolas,'Courier New',monospace\">✨ You're running DeepEval's latest <span style=\"color: #6a00ff; text-decoration-color: #6a00ff\">Correctness </span><span style=\"color: #6a00ff; text-decoration-color: #6a00ff; font-weight: bold\">(</span><span style=\"color: #6a00ff; text-decoration-color: #6a00ff\">GEval</span><span style=\"color: #6a00ff; text-decoration-color: #6a00ff; font-weight: bold\">)</span><span style=\"color: #6a00ff; text-decoration-color: #6a00ff\"> Metric</span>! <span style=\"color: #374151; text-decoration-color: #374151; font-weight: bold\">(</span><span style=\"color: #374151; text-decoration-color: #374151\">using gpt-4o, </span><span style=\"color: #374151; text-decoration-color: #374151\">strict</span><span style=\"color: #374151; text-decoration-color: #374151\">=</span><span style=\"color: #374151; text-decoration-color: #374151; font-style: italic\">False</span><span style=\"color: #374151; text-decoration-color: #374151\">, </span><span style=\"color: #374151; text-decoration-color: #374151\">async_mode</span><span style=\"color: #374151; text-decoration-color: #374151\">=</span><span style=\"color: #374151; text-decoration-color: #374151; font-style: italic\">True</span><span style=\"color: #374151; text-decoration-color: #374151; font-weight: bold\">)</span><span style=\"color: #374151; text-decoration-color: #374151\">...</span>\n",
       "</pre>\n"
      ],
      "text/plain": [
       "✨ You're running DeepEval's latest \u001b[38;2;106;0;255mCorrectness \u001b[0m\u001b[1;38;2;106;0;255m(\u001b[0m\u001b[38;2;106;0;255mGEval\u001b[0m\u001b[1;38;2;106;0;255m)\u001b[0m\u001b[38;2;106;0;255m Metric\u001b[0m! \u001b[1;38;2;55;65;81m(\u001b[0m\u001b[38;2;55;65;81musing gpt-4o, \u001b[0m\u001b[38;2;55;65;81mstrict\u001b[0m\u001b[38;2;55;65;81m=\u001b[0m\u001b[3;38;2;55;65;81mFalse\u001b[0m\u001b[38;2;55;65;81m, \u001b[0m\u001b[38;2;55;65;81masync_mode\u001b[0m\u001b[38;2;55;65;81m=\u001b[0m\u001b[3;38;2;55;65;81mTrue\u001b[0m\u001b[1;38;2;55;65;81m)\u001b[0m\u001b[38;2;55;65;81m...\u001b[0m\n"
      ]
     },
     "metadata": {},
     "output_type": "display_data"
    },
    {
     "data": {
      "text/html": [
       "<pre style=\"white-space:pre;overflow-x:auto;line-height:normal;font-family:Menlo,'DejaVu Sans Mono',consolas,'Courier New',monospace\">✨ You're running DeepEval's latest <span style=\"color: #6a00ff; text-decoration-color: #6a00ff\">Faithfulness Metric</span>! <span style=\"color: #374151; text-decoration-color: #374151; font-weight: bold\">(</span><span style=\"color: #374151; text-decoration-color: #374151\">using gpt-</span><span style=\"color: #374151; text-decoration-color: #374151; font-weight: bold\">4</span><span style=\"color: #374151; text-decoration-color: #374151\">, </span><span style=\"color: #374151; text-decoration-color: #374151\">strict</span><span style=\"color: #374151; text-decoration-color: #374151\">=</span><span style=\"color: #374151; text-decoration-color: #374151; font-style: italic\">False</span><span style=\"color: #374151; text-decoration-color: #374151\">, </span><span style=\"color: #374151; text-decoration-color: #374151\">async_mode</span><span style=\"color: #374151; text-decoration-color: #374151\">=</span><span style=\"color: #374151; text-decoration-color: #374151; font-style: italic\">True</span><span style=\"color: #374151; text-decoration-color: #374151; font-weight: bold\">)</span><span style=\"color: #374151; text-decoration-color: #374151\">...</span>\n",
       "</pre>\n"
      ],
      "text/plain": [
       "✨ You're running DeepEval's latest \u001b[38;2;106;0;255mFaithfulness Metric\u001b[0m! \u001b[1;38;2;55;65;81m(\u001b[0m\u001b[38;2;55;65;81musing gpt-\u001b[0m\u001b[1;38;2;55;65;81m4\u001b[0m\u001b[38;2;55;65;81m, \u001b[0m\u001b[38;2;55;65;81mstrict\u001b[0m\u001b[38;2;55;65;81m=\u001b[0m\u001b[3;38;2;55;65;81mFalse\u001b[0m\u001b[38;2;55;65;81m, \u001b[0m\u001b[38;2;55;65;81masync_mode\u001b[0m\u001b[38;2;55;65;81m=\u001b[0m\u001b[3;38;2;55;65;81mTrue\u001b[0m\u001b[1;38;2;55;65;81m)\u001b[0m\u001b[38;2;55;65;81m...\u001b[0m\n"
      ]
     },
     "metadata": {},
     "output_type": "display_data"
    },
    {
     "data": {
      "text/html": [
       "<pre style=\"white-space:pre;overflow-x:auto;line-height:normal;font-family:Menlo,'DejaVu Sans Mono',consolas,'Courier New',monospace\">✨ You're running DeepEval's latest <span style=\"color: #6a00ff; text-decoration-color: #6a00ff\">Answer Relevancy Metric</span>! <span style=\"color: #374151; text-decoration-color: #374151; font-weight: bold\">(</span><span style=\"color: #374151; text-decoration-color: #374151\">using gpt-4o, </span><span style=\"color: #374151; text-decoration-color: #374151\">strict</span><span style=\"color: #374151; text-decoration-color: #374151\">=</span><span style=\"color: #374151; text-decoration-color: #374151; font-style: italic\">False</span><span style=\"color: #374151; text-decoration-color: #374151\">, </span><span style=\"color: #374151; text-decoration-color: #374151\">async_mode</span><span style=\"color: #374151; text-decoration-color: #374151\">=</span><span style=\"color: #374151; text-decoration-color: #374151; font-style: italic\">True</span><span style=\"color: #374151; text-decoration-color: #374151; font-weight: bold\">)</span><span style=\"color: #374151; text-decoration-color: #374151\">...</span>\n",
       "</pre>\n"
      ],
      "text/plain": [
       "✨ You're running DeepEval's latest \u001b[38;2;106;0;255mAnswer Relevancy Metric\u001b[0m! \u001b[1;38;2;55;65;81m(\u001b[0m\u001b[38;2;55;65;81musing gpt-4o, \u001b[0m\u001b[38;2;55;65;81mstrict\u001b[0m\u001b[38;2;55;65;81m=\u001b[0m\u001b[3;38;2;55;65;81mFalse\u001b[0m\u001b[38;2;55;65;81m, \u001b[0m\u001b[38;2;55;65;81masync_mode\u001b[0m\u001b[38;2;55;65;81m=\u001b[0m\u001b[3;38;2;55;65;81mTrue\u001b[0m\u001b[1;38;2;55;65;81m)\u001b[0m\u001b[38;2;55;65;81m...\u001b[0m\n"
      ]
     },
     "metadata": {},
     "output_type": "display_data"
    },
    {
     "name": "stdout",
     "output_type": "stream",
     "text": [
      "Event loop is already running. Applying nest_asyncio patch to allow async execution...\n"
     ]
    },
    {
     "name": "stderr",
     "output_type": "stream",
     "text": [
      "Evaluating 10 test case(s) in parallel: |█         | 10% (1/10) [Time Taken: 00:15, 15.32s/test case]ERROR:root:OpenAI rate limit exceeded. Retrying: 1 time(s)...\n",
      "ERROR:root:OpenAI rate limit exceeded. Retrying: 1 time(s)...\n",
      "ERROR:root:OpenAI rate limit exceeded. Retrying: 1 time(s)...\n",
      "ERROR:root:OpenAI rate limit exceeded. Retrying: 1 time(s)...\n",
      "ERROR:root:OpenAI rate limit exceeded. Retrying: 1 time(s)...\n",
      "ERROR:root:OpenAI rate limit exceeded. Retrying: 1 time(s)...\n",
      "Evaluating 10 test case(s) in parallel: |██        | 20% (2/10) [Time Taken: 00:28, 14.02s/test case]ERROR:root:OpenAI rate limit exceeded. Retrying: 2 time(s)...\n",
      "ERROR:root:OpenAI rate limit exceeded. Retrying: 1 time(s)...\n",
      "ERROR:root:OpenAI rate limit exceeded. Retrying: 1 time(s)...\n",
      "Evaluating 10 test case(s) in parallel: |███       | 30% (3/10) [Time Taken: 00:33, 10.04s/test case]ERROR:root:OpenAI rate limit exceeded. Retrying: 2 time(s)...\n",
      "ERROR:root:OpenAI rate limit exceeded. Retrying: 2 time(s)...\n",
      "ERROR:root:OpenAI rate limit exceeded. Retrying: 2 time(s)...\n",
      "Evaluating 10 test case(s) in parallel: |████      | 40% (4/10) [Time Taken: 00:39,  8.48s/test case]ERROR:root:OpenAI rate limit exceeded. Retrying: 2 time(s)...\n",
      "ERROR:root:OpenAI rate limit exceeded. Retrying: 2 time(s)...\n",
      "Evaluating 10 test case(s) in parallel: |█████     | 50% (5/10) [Time Taken: 00:44,  7.15s/test case]ERROR:root:OpenAI rate limit exceeded. Retrying: 3 time(s)...\n",
      "ERROR:root:OpenAI rate limit exceeded. Retrying: 3 time(s)...\n",
      "ERROR:root:OpenAI rate limit exceeded. Retrying: 3 time(s)...\n",
      "Evaluating 10 test case(s) in parallel: |██████    | 60% (6/10) [Time Taken: 00:54,  8.10s/test case]ERROR:root:OpenAI rate limit exceeded. Retrying: 3 time(s)...\n",
      "Evaluating 10 test case(s) in parallel: |███████   | 70% (7/10) [Time Taken: 00:57,  6.56s/test case]ERROR:root:OpenAI rate limit exceeded. Retrying: 4 time(s)...\n",
      "Evaluating 10 test case(s) in parallel: |██████████|100% (10/10) [Time Taken: 01:19,  7.96s/test case]\n"
     ]
    },
    {
     "name": "stdout",
     "output_type": "stream",
     "text": [
      "\n",
      "======================================================================\n",
      "\n",
      "Metrics Summary\n",
      "\n",
      "  - ❌ Correctness (GEval) (score: 0.25719053320936747, threshold: 0.5, strict: False, evaluation model: gpt-4o, reason: The actual output does not confirm or refute the expected obligation of Audi regarding replacement equipment, lacking direct relevance to the expected statement., error: None)\n",
      "  - ✅ Faithfulness (score: 1.0, threshold: 0.7, strict: False, evaluation model: gpt-4, reason: None, error: None)\n",
      "  - ❌ Answer Relevancy (score: 0.6666666666666666, threshold: 0.7, strict: False, evaluation model: gpt-4o, reason: The score is 0.67 because the response partially addresses the question but includes irrelevant information about myAudi and Audi Connect services, which does not directly relate to handling obsolete equipment., error: None)\n",
      "\n",
      "For test case:\n",
      "\n",
      "  - input: How does Audi handle situations where a technological change renders certain service-related equipment obsolete?\n",
      "  - actual output: The context does not provide specific details on how Audi handles situations where technological changes render service-related equipment obsolete. It mainly outlines the services and terms related to myAudi and Audi Connect services, but does not address obsolescence directly.\n",
      "  - expected output: Audi is not obligated to design or provide replacement equipment, leaving users to bear the cost.\n",
      "  - context: None\n",
      "  - retrieval context: ['in part be included as a part of a Paid Plan (as defined below).  Your Vehicle contains or requires the installation of additional hardware and software (“Equipment”) that enables you to receive or utilize certain Services.  Audi Connect services and Audi Financial Services, while accessible and manageable through myAudi, are governed by separate Terms of Service, available at Audi connect Terms and Audi Financial Services Terms and Policies.', 'These Terms of Service govern your use of the myAudi services (the capabilities of which may vary by model and model year), including account management (such as Audi financial payments, add-on plan details, and dealer information); vehicle details (such as videos and guides, service scheduling, warranty information, and personalized accessories) and exclusive benefits and content (such as lifestyle articles, luxury partner offers, exclusive events, and Audi owner community); the myAudi Marketplace (as further described below); management of your Audi Connect services, including Connect CARE, Connect PRIME, Connect NAV, and Connect PLUS; Audi Functions on Demand; and any other Audi designated services (together the “Service”) available with your Audi vehicle (your “Vehicle”), which may in part be included as a part of a Paid Plan (as defined below).  Your Vehicle contains or requires the installation of additional hardware and software (“Equipment”) that enables you to receive or']\n",
      "\n",
      "======================================================================\n",
      "\n",
      "Metrics Summary\n",
      "\n",
      "  - ✅ Correctness (GEval) (score: 0.7388488494602017, threshold: 0.5, strict: False, evaluation model: gpt-4o, reason: Actual output includes additional context about products not as described, but correctly states the requirement to return in unused condition., error: None)\n",
      "  - ❌ Faithfulness (score: 0.6666666666666666, threshold: 0.7, strict: False, evaluation model: gpt-4, reason: None, error: None)\n",
      "  - ✅ Answer Relevancy (score: 1.0, threshold: 0.7, strict: False, evaluation model: gpt-4o, reason: The score is 1.00 because the response perfectly addresses the query without any irrelevant information. Keep up the great work!, error: None)\n",
      "\n",
      "For test case:\n",
      "\n",
      "  - input: What happens if a product offered by Amazon is not as described?\n",
      "  - actual output: If a product offered by Amazon is not as described, your only option is to return it in unused condition.\n",
      "  - expected output: Return it in unused condition.\n",
      "  - context: None\n",
      "  - retrieval context: ['PRODUCT DESCRIPTIONS\\nAmazon attempts to be as accurate as possible. However, Amazon does not warrant that product descriptions or other content of any Amazon Service is accurate, complete, reliable, current, or error-free. If a product offered by Amazon itself is not as described, your sole remedy is to return it in unused condition.', \"TO THE FULL EXTENT PERMISSIBLE BY LAW, AMAZON DISCLAIMS ALL WARRANTIES, EXPRESS OR IMPLIED, INCLUDING, BUT NOT LIMITED TO, IMPLIED WARRANTIES OF MERCHANTABILITY AND FITNESS FOR A PARTICULAR PURPOSE. AMAZON DOES NOT WARRANT THAT THE AMAZON SERVICES, INFORMATION, CONTENT, MATERIALS, PRODUCTS (INCLUDING SOFTWARE) OR OTHER SERVICES INCLUDED ON OR OTHERWISE MADE AVAILABLE TO YOU THROUGH THE AMAZON SERVICES, AMAZON'S SERVERS OR ELECTRONIC COMMUNICATIONS SENT FROM AMAZON ARE FREE OF VIRUSES OR OTHER HARMFUL COMPONENTS. TO THE FULL EXTENT PERMISSIBLE BY LAW, AMAZON WILL NOT BE LIABLE FOR ANY DAMAGES OF ANY KIND ARISING FROM THE USE OF ANY AMAZON SERVICE, OR FROM ANY INFORMATION, CONTENT, MATERIALS, PRODUCTS (INCLUDING SOFTWARE) OR OTHER SERVICES INCLUDED ON OR OTHERWISE MADE AVAILABLE TO YOU THROUGH ANY AMAZON SERVICE, INCLUDING, BUT NOT LIMITED TO DIRECT, INDIRECT, INCIDENTAL, PUNITIVE, AND CONSEQUENTIAL DAMAGES, UNLESS OTHERWISE SPECIFIED IN WRITING.\"]\n",
      "\n",
      "======================================================================\n",
      "\n",
      "Metrics Summary\n",
      "\n",
      "  - ✅ Correctness (GEval) (score: 0.7333542219218782, threshold: 0.5, strict: False, evaluation model: gpt-4o, reason: The actual output correctly states disputes are resolved through arbitration or small claims court and mentions the waiver of class action indirectly by outlining arbitration initiation and small claims court eligibility. However, it lacks a direct reference to the waiver of class action rights., error: None)\n",
      "  - ✅ Faithfulness (score: 1.0, threshold: 0.7, strict: False, evaluation model: gpt-4, reason: None, error: None)\n",
      "  - ✅ Answer Relevancy (score: 1.0, threshold: 0.7, strict: False, evaluation model: gpt-4o, reason: The score is 1.00 because the output perfectly addresses the input without any irrelevant statements. Great job!, error: None)\n",
      "\n",
      "For test case:\n",
      "\n",
      "  - input: What is Chick-fil-A's policy on arbitration?\n",
      "  - actual output: - If a claim cannot be resolved within 60 days, either party can start arbitration or small claims court proceedings.\n",
      "- To initiate arbitration, a letter must be sent to Chick-fil-A's Legal Department and the AAA, describing the claim.\n",
      "- Claims that could be handled in small claims court can be elected to be heard there instead of arbitration, before an arbitrator is appointed.\n",
      "- Any disputes about eligibility for small claims court are decided by the court, not an arbitrator.\n",
      "- Arbitration proceedings will remain closed until the small claims court makes a decision if there's a dispute about court eligibility.\n",
      "  - expected output: Disputes are resolved through binding arbitration or small claims court, with a waiver of class action rights.\n",
      "  - context: None\n",
      "  - retrieval context: ['If we are unable to resolve your claim within 60 days despite those good faith efforts, then either you or we may start arbitration or small claims court proceedings. To begin arbitration, you must send a letter requesting arbitration and describing your claim to the following address: Chick-fil-A, Inc., ATTN: Legal Department, 5200 Buffington Rd, Atlanta, GA 30349 and to the AAA. Notwithstanding the foregoing, if the claims asserted in any request or demand for arbitration could have been brought in small claims court, then either you or we may elect to have the claims heard in small claims court, rather than in arbitration, at any time before the arbitrator is appointed, by notifying the other party of that election in writing. Any dispute about whether a claim qualifies for small claims court will be resolved by that court, not by an arbitrator. In the event of any such dispute, the arbitration proceeding will remain closed unless and until the small claims court issues a decision', 'If we are unable to resolve your claim within 60 days despite those good faith efforts, then either you or we may start arbitration or small claims court proceedings. To begin arbitration, you must send a letter requesting arbitration and describing your claim to the following address: Chick-fil-A, Inc., ATTN: Legal Department, 5200 Buffington Rd, Atlanta, GA 30349 and to the AAA. Notwithstanding the foregoing, if the claims asserted in any request or demand for arbitration could have been brought in small claims court, then either you or we may elect to have the claims heard in small claims court, rather than in arbitration, at any time before the arbitrator is appointed, by notifying the other party of that election in writing. Any dispute about whether a claim qualifies for small claims court will be resolved by that court, not by an arbitrator. In the event of any such dispute, the arbitration proceeding will remain closed unless and until the small claims court issues a decision']\n",
      "\n",
      "======================================================================\n",
      "\n",
      "Metrics Summary\n",
      "\n",
      "  - ✅ Correctness (GEval) (score: 0.8152796193240652, threshold: 0.5, strict: False, evaluation model: gpt-4o, reason: The actual output correctly states that the context does not mention a waiver of provisions by Mettler-Toledo and aligns with the expected output. However, it includes additional details that are not directly related to the waiver issue., error: None)\n",
      "  - ✅ Faithfulness (score: 1.0, threshold: 0.7, strict: False, evaluation model: gpt-4, reason: None, error: None)\n",
      "  - ❌ Answer Relevancy (score: 0.2857142857142857, threshold: 0.7, strict: False, evaluation model: gpt-4o, reason: The score is 0.29 because the response primarily includes irrelevant information about legal frameworks and jurisdictions, which do not answer the question about whether Mettler-Toledo waives any provisions., error: None)\n",
      "\n",
      "For test case:\n",
      "\n",
      "  - input: Does METTLER TOLEDO's waive any provision?\n",
      "  - actual output: The context does not explicitly mention any waiver of provisions by Mettler-Toledo. It outlines the governing law and jurisdiction for disputes but does not indicate any waiver of rights or provisions. Here are the key points:\n",
      "\n",
      "- The contract is governed by the laws of the country where the Mettler-Toledo office on the order documents is located.\n",
      "- If the office is in the USA, Delaware state laws apply.\n",
      "- Legal claims must be filed in the court nearest to the Mettler-Toledo office on the order documents.\n",
      "- Mettler-Toledo can choose to initiate legal proceedings in any competent court.\n",
      "- The United Nations Convention on Contracts for the International Sale of Goods does not apply.\n",
      "  - expected output: No, METTLER TOLEDO does not waive any provision.\n",
      "  - context: None\n",
      "  - retrieval context: ['Mettler-Toledo Standard Terms and Conditions for Sales and Service', '24. GOVERNING LAW AND PLACE OF JURISDICTION – The performance of the parties to this contract, and the relationship between the parties, is subject to the applicable laws of the country where the Mettler Toledo office identified on the MT order documents is located; if the Mettler Toledo office identified on the MT order documents is located in the United States of America, the laws of the State of Delaware apply. The exclusive venue for claims arising under this contract is the court with competent jurisdiction nearest to the Mettler Toledo office identified on the MT order documents; if the Mettler Toledo office identified on the MT order documents is located in the United States of America, the courts of the State of Delaware are the exclusive venue. However, MT reserves the right to initiate court proceedings against Buyer at any other court of competent jurisdiction. The United Nations Convention on Contracts for the International Sale of Goods is explicitly excluded.']\n",
      "\n",
      "======================================================================\n",
      "\n",
      "Metrics Summary\n",
      "\n",
      "  - ✅ Correctness (GEval) (score: 0.6474614551196836, threshold: 0.5, strict: False, evaluation model: gpt-4o, reason: The actual output mentions location access, which aligns with the expected output, but includes additional permissions not specified in the expected output., error: None)\n",
      "  - ✅ Faithfulness (score: 1.0, threshold: 0.7, strict: False, evaluation model: gpt-4, reason: None, error: None)\n",
      "  - ✅ Answer Relevancy (score: 1.0, threshold: 0.7, strict: False, evaluation model: gpt-4o, reason: The score is 1.00 because the response was perfectly relevant and addressed the question without any irrelevant information. Great job!, error: None)\n",
      "\n",
      "For test case:\n",
      "\n",
      "  - input: What permissions might you grant when using Amazon-created apps?\n",
      "  - actual output: When using Amazon-created apps, you might grant the following permissions:\n",
      "\n",
      "- Access to your device's location services.\n",
      "- Permission to access your contacts.\n",
      "- Other permissions that your mobile device will inform you about.\n",
      "- The ability to change these permissions in your device's settings menu.\n",
      "  - expected output: Device-specific permissions like location or camera access.\n",
      "  - context: None\n",
      "  - retrieval context: ['We generally do not charge your credit card until after your order has entered the shipping process or, for digital products, until we make the digital product available to you.\\n\\nAPP PERMISSIONS\\nWhen you use apps created by Amazon, such as the Amazon App or Kindle App, you may grant certain permissions to us for your device. Most mobile devices provide you with information about these permissions. To learn more about these permissions, click here.\\n\\nSANCTIONS AND EXPORT POLICY\\nYou may not use any Amazon Service if you are the subject of U.S. sanctions or of sanctions consistent with U.S. law imposed by the governments of the country where you are using Amazon Services. You must comply with all U.S. or other export and re-export restrictions that may apply to goods, software (including Amazon Software), technology, and services.', 'You will also be able to opt out of certain other types of data usage by updating your settings on the applicable Amazon website (e.g., in \"Manage Your Content and Devices\"), device, or application. For more information click here. Most non-Amazon devices also provide users with the ability to change device permissions (e.g., disable/access location services, contacts). For most devices, these controls are located in the device\\'s settings menu. If you have questions about how to change your device permissions on devices manufactured by third parties, we recommend you contact your mobile service carrier or your device manufacturer.\\nIf you are a seller, you can add or update certain information in Seller Central, update your account information by accessing your Seller Account Information, and adjust your email or other communications you receive from us by updating your Notification Preferences.']\n",
      "\n",
      "======================================================================\n",
      "\n",
      "Metrics Summary\n",
      "\n",
      "  - ✅ Correctness (GEval) (score: 0.9533663678530517, threshold: 0.5, strict: False, evaluation model: gpt-4o, reason: The actual output correctly states that Apple does not share data with brokers and its advertising platform does not link user/device data with third-party data., error: None)\n",
      "  - ✅ Faithfulness (score: 1.0, threshold: 0.7, strict: False, evaluation model: gpt-4, reason: None, error: None)\n",
      "  - ✅ Answer Relevancy (score: 1.0, threshold: 0.7, strict: False, evaluation model: gpt-4o, reason: The score is 1.00 because the response perfectly addresses the question about Apple's advertising platform and its approach to user tracking without any irrelevant information. Great job!, error: None)\n",
      "\n",
      "For test case:\n",
      "\n",
      "  - input: How does Apple’s advertising platform differ from others regarding user tracking?\n",
      "  - actual output: 1. Apple treats data collected through cookies and similar technologies as non-personal, but if local laws consider IP addresses as personal data, Apple treats them as such in those regions.\n",
      "2. Apple may combine non-personal data with personal data, and if combined, it is treated as personal data under their Privacy Policy.\n",
      "3. Apple's advertising platform does not track users by linking data from its apps with data from third parties for targeted advertising.\n",
      "4. Apple does not share user or device data with data brokers.\n",
      "5. Users can disable Personalized Ads to opt out of interest-based ads, but may still see context-based ads.\n",
      "  - expected output: It does not link user/device data with third-party data or share data with brokers.\n",
      "  - context: None\n",
      "  - retrieval context: ['Apple generally treats data we collect using these cookies and similar technologies as non-personal data. However, to the extent that Internet Protocol (IP) addresses or similar identifiers are considered personal data by local law, we also treat these identifiers as personal data in those regions. In addition, Apple sometimes combines non-personal data collected from these technologies with other personal data Apple holds. When we combine data in this way, we treat the combined data as personal data for purposes of this Privacy Policy.\\n\\nAds that are delivered by Apple’s advertising platform may appear on the App Store, Apple News, Stocks, and Apple TV app depending on your location. Apple’s advertising platform does not track you, meaning that it does not link user or device data collected from our apps with user or device data collected from third parties for targeted advertising or advertising measurement purposes, and does not share user or device data with data brokers.', \"If you do not want to receive ads targeted to your interests from Apple's advertising platform in those apps, you can choose to disable Personalized Ads, which will opt your Apple Account out of receiving such ads regardless of what device you are using. On your iOS, iPadOS, or visionOS device, you can disable Personalized Ads by going to Settings > Privacy & Security > Apple Advertising and tapping to turn off Personalized Ads. On your Mac, you can disable Personalized Ads by going to System Settings > Privacy & Security > Privacy > Advertising, then deselecting Personalized Ads. You may still see ads in the App Store, Apple News, or Stocks based on context like your search query or the channel you are reading. If you disable Allow Apps to Request to Track, third-party apps cannot request to use the Advertising Identifier, a non-personal identifier served by the operating system on your device, to track you across apps and websites owned by other companies.\"]\n",
      "\n",
      "======================================================================\n",
      "\n",
      "Metrics Summary\n",
      "\n",
      "  - ✅ Correctness (GEval) (score: 0.8254054216838981, threshold: 0.5, strict: False, evaluation model: gpt-4o, reason: The actual output correctly states Audi's ability to revoke access for violations, excessive or fraudulent use. However, it expands on specific conditions not mentioned in the expected output such as commercial use restrictions., error: None)\n",
      "  - ✅ Faithfulness (score: 1.0, threshold: 0.7, strict: False, evaluation model: gpt-4, reason: None, error: None)\n",
      "  - ✅ Answer Relevancy (score: 0.8, threshold: 0.7, strict: False, evaluation model: gpt-4o, reason: The score is 0.80 because while the response addresses the main question about Audi revoking access to the charging promotion, it includes an irrelevant statement about vehicles used for commercial purposes, which detracts slightly from the focus on the revocation conditions., error: None)\n",
      "\n",
      "For test case:\n",
      "\n",
      "  - input: Can Audi revoke access to the complimentary charging promotion without notice, and under what conditions?\n",
      "  - actual output: - Audi can revoke your access to the charging promotion without notice if they believe you violated any terms or agreements with them.\n",
      "- If you incur excessive or fraudulent costs during a charging session, Audi may suspend your access.\n",
      "- Engaging in illegal or harmful activities while using Audi services or charging stations can lead to termination of access.\n",
      "- The promotion is only for charging the specific Audi vehicle associated with it, not for any other vehicles.\n",
      "- Vehicles used for commercial purposes, like ridesharing or taxis, are not eligible for this promotion.\n",
      "  - expected output: Yes, Audi can revoke access if there is suspected excessive, fraudulent, or unauthorized use or violation of any terms.\n",
      "  - context: None\n",
      "  - retrieval context: ['Audi reserves the right to withhold, revoke, reduce, terminate, or suspend your access to all or any portion of this Promotion  without notice if Audi determines or suspects, in its sole discretion, that you: (a) are in violation of the myAudi Terms of Service, the myAudi mobile app Terms of Use, these Promotion Terms and Conditions, or any other contract between you and Audi; (b) have incurred costs (including without limitation any parking or idle fees) during a charging session that are excessive, fraudulent, or otherwise indicate an unauthorized or unintended use  this f Promotion; or (c) have engaged in any illegal, fraudulent, tortious, injurious, harmful, or abusive conduct in your use of the myAudi service, the myAudi mobile app, or an Electrify America charging station.', 'Subject to the restrictions below, there is no limit on the number of eligible charging sessions during the Promotion or the kWh amount of charging available in each session. However, please be aware that frequent and consecutive charging can permanently decrease battery capacity, which may not be covered your vehicle’s warranty. \\n\\n\\n\\nPLEASE NOTE THE FOLLOWING IMPORTANT LIMITATIONS ON YOUR USE OF THIS PLAN:\\nYou may only use this Plan for charging the Audi vehicle associated with this Promotion. No other vehicle is eligible to receive charging under this Promotion through your account, whether owned by you or others.\\n\\nThis Plan is not available for any vehicles in commercial use, such as ridesharing or taxi services.']\n",
      "\n",
      "======================================================================\n",
      "\n",
      "Metrics Summary\n",
      "\n",
      "  - ✅ Correctness (GEval) (score: 0.677144196399749, threshold: 0.5, strict: False, evaluation model: gpt-4o, reason: The actual output mentions removing content for copyright violations, aligning with the expected output. However, it does not explicitly mention taking legal action, which is a key element in the expected output., error: None)\n",
      "  - ✅ Faithfulness (score: 1.0, threshold: 0.7, strict: False, evaluation model: gpt-4, reason: None, error: None)\n",
      "  - ✅ Answer Relevancy (score: 1.0, threshold: 0.7, strict: False, evaluation model: gpt-4o, reason: The score is 1.00 because the response perfectly addresses the question about Costco's policy on handling user-generated content related to copyright or trademark laws without any irrelevant information. Great job!, error: None)\n",
      "\n",
      "For test case:\n",
      "\n",
      "  - input: What is Costco policy on handling user-generated content that may violate copyright or trademark laws?\n",
      "  - actual output: - Costco reserves the right to take actions such as issuing warnings, suspending or terminating access, and removing or editing content if it believes the content may violate copyright or trademark laws.\n",
      "- Costco does not take responsibility or assume liability for any content posted by users or third parties, including any potential copyright or trademark violations.\n",
      "- Users are solely responsible for the content they upload and must ensure they have the rights to grant licenses to Costco.\n",
      "- Users agree to indemnify Costco against any claims or damages arising from their content or conduct, including violations of copyright or trademark laws.\n",
      "  - expected output: Costco may remove infringing content and take legal action against users who violate copyright laws.\n",
      "  - context: None\n",
      "  - retrieval context: [\"obligation, to take any action we deem appropriate, including but not limited to action to issue a warning, suspend or terminate your access and use of the Sites and related services at any time, and block, remove or edit any communication and materials that Costco believes in its sole discretion may violate applicable law, the Site Terms or a third party's rights. Costco takes no responsibility and assumes no liability for any Content posted or uploaded by you or any third party, or for any mistakes, defamation, slander, libel, omissions, falsehoods, obscenity, pornography or profanity you may encounter.\", \"6. Responsibility for Your Conduct\\nYou represent and warrant that you have and will retain all rights necessary to grant the licenses to Costco under these Terms. You remain solely liable for the Content or other information you upload or transmit to the discussion forums or interactive areas of the Sites, including the Photo Services. You agree to indemnify and hold harmless Costco and its parents, employees, agents and representatives from any third-party claim, action, demand, loss, or damages (including attorneys' fees) arising out of or relating to your conduct, your actual or attempted violation of these Site Terms or any applicable law, your Submissions (including Content and Photo Content), your violation of any rights of a third party, or the acts or omissions of a third party who has authority to access or use the Sites on your behalf or arising out of your violation of these Site Terms.\"]\n",
      "\n",
      "======================================================================\n",
      "\n",
      "Metrics Summary\n",
      "\n",
      "  - ✅ Correctness (GEval) (score: 0.9755864904599998, threshold: 0.5, strict: False, evaluation model: gpt-4o, reason: The actual output matches the expected output by stating the nonexclusive, royalty-free, perpetual, irrevocable, and sublicensable rights exactly as required., error: None)\n",
      "  - ✅ Faithfulness (score: 1.0, threshold: 0.7, strict: False, evaluation model: gpt-4, reason: None, error: None)\n",
      "  - ✅ Answer Relevancy (score: 1.0, threshold: 0.7, strict: False, evaluation model: gpt-4o, reason: The score is 1.00 because the response is perfectly relevant and directly addresses the user's question without any irrelevant information. Great job!, error: None)\n",
      "\n",
      "For test case:\n",
      "\n",
      "  - input: What rights do users grant Amazon when posting reviews or comments?\n",
      "  - actual output: - Users grant Amazon a nonexclusive, royalty-free, perpetual, irrevocable, and fully sublicensable right to use their content.\n",
      "- Amazon can use, reproduce, modify, adapt, publish, perform, translate, create derivative works from, distribute, and display the content worldwide in any media.\n",
      "- Users allow Amazon and its sublicensees to use the name submitted with the content.\n",
      "- Users must ensure they own or control all rights to the content and that it is accurate and non-infringing.\n",
      "- Users agree to indemnify Amazon for any claims related to the content they provide.\n",
      "  - expected output: Nonexclusive, royalty-free, perpetual, irrevocable, and sublicensable rights.\n",
      "  - context: None\n",
      "  - retrieval context: ['If you do post content or submit material, and unless we indicate otherwise, you grant Amazon a nonexclusive, royalty-free, perpetual, irrevocable, and fully sublicensable right to use, reproduce, modify, adapt, publish, perform, translate, create derivative works from, distribute, and display such content throughout the world in any media. You grant Amazon and sublicensees the right to use the name that you submit in connection with such content, if they choose. You represent and warrant that you own or otherwise control all of the rights to the content that you post; that the content is accurate; that use of the content you supply does not violate this policy and will not cause injury to any person or entity; and that you will indemnify Amazon for all claims resulting from content you supply. Amazon has the right but not the obligation to monitor and edit or remove any activity or content. Amazon takes no responsibility and assumes no liability for any content posted by you or any', 'REVIEWS, COMMENTS, COMMUNICATIONS, AND OTHER CONTENT\\nYou may post reviews, comments, photos, videos, and other content; send e-cards and other communications; and submit suggestions, ideas, comments, questions, or other information, so long as the content is not illegal, obscene, threatening, defamatory, invasive of privacy, infringing of intellectual property rights (including publicity rights), or otherwise injurious to third parties or objectionable, and does not consist of or contain software viruses, political campaigning, commercial solicitation, chain letters, mass mailings, or any form of \"spam\" or unsolicited commercial electronic messages. You may not use a false e-mail address, impersonate any person or entity, or otherwise mislead as to the origin of a card or other content. Amazon reserves the right (but not the obligation) to remove or edit such content, but does not regularly review posted content.']\n",
      "\n",
      "======================================================================\n",
      "\n",
      "Metrics Summary\n",
      "\n",
      "  - ❌ Correctness (GEval) (score: 0.012116368265565936, threshold: 0.5, strict: False, evaluation model: gpt-4o, reason: The actual output does not address the restriction on accepting rewards at licensed or non-traditional locations like airports or colleges, which is the key point in the expected output., error: None)\n",
      "  - ✅ Faithfulness (score: 1.0, threshold: 0.7, strict: False, evaluation model: gpt-4, reason: None, error: None)\n",
      "  - ❌ Answer Relevancy (score: 0.4166666666666667, threshold: 0.7, strict: False, evaluation model: gpt-4o, reason: The score is 0.42 because most of the statements provided do not directly address the question about using Chick-fil-A rewards at all locations, detracting from the overall relevancy. However, some aspects may still offer useful information related to rewards, just not specifically to the location usage inquiry., error: None)\n",
      "\n",
      "For test case:\n",
      "\n",
      "  - input: Can I use Chick-fil-A rewards at all locations?\n",
      "  - actual output: Rewards cannot be redeemed through any third-party platforms. Rewards provided to Members have set terms and will expire in accordance with the terms stated for that Reward. Determinations regarding redemption of Points are subject to Chick-fil-A’s discretion. qualifying purchases and preferences. In certain events, Member Benefits may require that you have location settings enabled for them to be distributed to your App. Please note that Chick-fil-A and participating Chick-fil-A restaurants may be unable to send these Member Benefits to you if you have turned off your notifications or location settings in the App; if you have elected not to receive email or other communications from Chick-fil-A; or if you have poor network connectivity. Member Benefits may have certain restrictions including expiration dates and short, time-limited redemption periods. Member Benefits are personal to you and cannot be shared, copied or transferred, except as the Program may allow in certain limited instances. You may be required to present your Chick-fil-A One account information at the participating Chick-fil-A restaurant in order to redeem Member Benefits. Read each offer carefully for specific details, limitations and restrictions.\n",
      "  - expected output: No, rewards may not be accepted at licensed or non-traditional locations like airports or colleges.\n",
      "  - context: None\n",
      "  - retrieval context: ['the App or online at www.chick-fil-a.com/MyProfile/AddRewards or https://order.chick-fil-a.com while logged into your Chick-fil-A One Account. Rewards cannot be redeemed through any third-party platforms. Rewards provided to Members have set terms and will expire in accordance with the terms stated for that Reward. Determinations regarding redemption of Points are subject to Chick-fil-A’s discretion.', 'qualifying purchases and preferences. In certain events, Member Benefits may require that you have location settings enabled for them to be distributed to your App. Please note that Chick-fil-A and participating Chick-fil-A restaurants may be unable to send these Member Benefits to you if you have turned off your notifications or location settings in the App; if you have elected not to receive email or other communications from Chick-fil-A; or if you have poor network connectivity. Member Benefits may have certain restrictions including expiration dates and short, time-limited redemption periods. Member Benefits are personal to you and cannot be shared, copied or transferred, except as the Program may allow in certain limited instances. You may be required to present your Chick-fil-A One account information at the participating Chick-fil-A restaurant in order to redeem Member Benefits. Read each offer carefully for specific details, limitations and restrictions.']\n",
      "\n",
      "======================================================================\n",
      "\n",
      "Overall Metric Pass Rates\n",
      "\n",
      "Correctness (GEval): 80.00% pass rate\n",
      "Faithfulness: 90.00% pass rate\n",
      "Answer Relevancy: 70.00% pass rate\n",
      "\n",
      "======================================================================\n",
      "\n"
     ]
    },
    {
     "data": {
      "text/html": [
       "<pre style=\"white-space:pre;overflow-x:auto;line-height:normal;font-family:Menlo,'DejaVu Sans Mono',consolas,'Courier New',monospace\"><span style=\"color: #05f58d; text-decoration-color: #05f58d\">✓</span> Tests finished 🎉! View results on \n",
       "<a href=\"https://app.confident-ai.com/project/cm3t4v5he0phzxi6bzccemo99/evaluation-n-testing/test-runs/cm3tc6vbm0tbr135bzemts78c/test-cases\" target=\"_blank\"><span style=\"color: #0000ff; text-decoration-color: #0000ff; text-decoration: underline\">https://app.confident-ai.com/project/cm3t4v5he0phzxi6bzccemo99/evaluation-n-testing/test-runs/cm3tc6vbm0tbr135bzemt</span></a>\n",
       "<a href=\"https://app.confident-ai.com/project/cm3t4v5he0phzxi6bzccemo99/evaluation-n-testing/test-runs/cm3tc6vbm0tbr135bzemts78c/test-cases\" target=\"_blank\"><span style=\"color: #0000ff; text-decoration-color: #0000ff; text-decoration: underline\">s78c/test-cases</span></a><span style=\"color: #0000ff; text-decoration-color: #0000ff; text-decoration: underline\">.</span>\n",
       "‼️  Friendly reminder 😇: You can also run evaluations with ALL of deepeval's metrics directly on Confident AI \n",
       "instead.\n",
       "</pre>\n"
      ],
      "text/plain": [
       "\u001b[38;2;5;245;141m✓\u001b[0m Tests finished 🎉! View results on \n",
       "\u001b]8;id=327186;https://app.confident-ai.com/project/cm3t4v5he0phzxi6bzccemo99/evaluation-n-testing/test-runs/cm3tc6vbm0tbr135bzemts78c/test-cases\u001b\\\u001b[4;94mhttps://app.confident-ai.com/project/cm3t4v5he0phzxi6bzccemo99/evaluation-n-testing/test-runs/cm3tc6vbm0tbr135bzemt\u001b[0m\u001b]8;;\u001b\\\n",
       "\u001b]8;id=327186;https://app.confident-ai.com/project/cm3t4v5he0phzxi6bzccemo99/evaluation-n-testing/test-runs/cm3tc6vbm0tbr135bzemts78c/test-cases\u001b\\\u001b[4;94ms78c/test-cases\u001b[0m\u001b]8;;\u001b\\\u001b[4;94m.\u001b[0m\n",
       "‼️  Friendly reminder 😇: You can also run evaluations with ALL of deepeval's metrics directly on Confident AI \n",
       "instead.\n"
      ]
     },
     "metadata": {},
     "output_type": "display_data"
    }
   ],
   "source": [
    "evaluate_rag(chunks_query_retriever)"
   ]
  }
 ],
 "metadata": {
  "kernelspec": {
   "display_name": "venv",
   "language": "python",
   "name": "python3"
  },
  "language_info": {
   "codemirror_mode": {
    "name": "ipython",
    "version": 3
   },
   "file_extension": ".py",
   "mimetype": "text/x-python",
   "name": "python",
   "nbconvert_exporter": "python",
   "pygments_lexer": "ipython3",
   "version": "3.12.4"
  }
 },
 "nbformat": 4,
 "nbformat_minor": 2
}
